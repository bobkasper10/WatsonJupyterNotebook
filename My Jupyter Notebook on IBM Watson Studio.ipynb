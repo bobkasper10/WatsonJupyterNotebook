{
 "cells": [
  {
   "cell_type": "markdown",
   "metadata": {},
   "source": [
    "<center>\n",
    "    <img src=\"https://s3-api.us-geo.objectstorage.softlayer.net/cf-courses-data/CognitiveClass/Logos/organization_logo/organization_logo.png\" width=\"300\" alt=\"cognitiveclass.ai logo\"  />\n",
    "</center>\n"
   ]
  },
  {
   "cell_type": "markdown",
   "metadata": {},
   "source": [
    "#### Add your code below following the instructions given in the course\n"
   ]
  },
  {
   "cell_type": "markdown",
   "metadata": {
    "tags": []
   },
   "source": [
    "# My Jupyter Notebook on IBM Watson Studio"
   ]
  },
  {
   "cell_type": "markdown",
   "metadata": {},
   "source": [
    "<b>Robert Kasper</b>\n",
    "Technical Lead, Call Center Modernization"
   ]
  },
  {
   "cell_type": "markdown",
   "metadata": {},
   "source": [
    "<em>I had 7 years of data science experience before moving on to other business. I now want to modernize my skills to apply in contact center environments.</em>"
   ]
  },
  {
   "cell_type": "markdown",
   "metadata": {},
   "source": [
    "### My code will calculate 9 to the 3rd power"
   ]
  },
  {
   "cell_type": "code",
   "execution_count": 1,
   "metadata": {},
   "outputs": [
    {
     "name": "stdout",
     "output_type": "stream",
     "text": [
      "729\n"
     ]
    }
   ],
   "source": [
    "print (9**3)"
   ]
  },
  {
   "cell_type": "markdown",
   "metadata": {
    "tags": []
   },
   "source": [
    "* Bulleted List Line 1\n",
    "    * sub 1\n",
    "    * sub 2\n",
    "* Bulleted List Line 2\n",
    "    * sub 1\n",
    "    * sub 2\n",
    "* Bulleted List Line 3\n",
    "    * sub 1\n",
    "    * sub 2\n",
    "\n",
    "1. Numbered List Line 1\n",
    "    1. sub 1\n",
    "    2. sub 2\n",
    "2. Numbered List Line 2\n",
    "    1. sub 1\n",
    "    2. sub 2\n",
    "3. Numbered List Line 3\n",
    "    1. sub 1\n",
    "    2. sub 2\n",
    "    \n",
    "[Click to go to google.com](http://google.com)\n",
    "\n",
    "<Strike>Strikethrough</Strike>\n",
    "\n"
   ]
  },
  {
   "cell_type": "markdown",
   "metadata": {},
   "source": []
  }
 ],
 "metadata": {
  "kernelspec": {
   "display_name": "Python",
   "language": "python",
   "name": "conda-env-python-py"
  },
  "language_info": {
   "codemirror_mode": {
    "name": "ipython",
    "version": 3
   },
   "file_extension": ".py",
   "mimetype": "text/x-python",
   "name": "python",
   "nbconvert_exporter": "python",
   "pygments_lexer": "ipython3",
   "version": "3.7.12"
  }
 },
 "nbformat": 4,
 "nbformat_minor": 4
}
